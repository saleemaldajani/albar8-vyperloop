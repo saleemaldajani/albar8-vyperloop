{
 "cells": [
  {
   "cell_type": "code",
   "execution_count": 1,
   "metadata": {
    "collapsed": true
   },
   "outputs": [],
   "source": [
    "%reload_ext rpy2.ipython"
   ]
  },
  {
   "cell_type": "code",
   "execution_count": 2,
   "metadata": {
    "collapsed": true
   },
   "outputs": [],
   "source": [
    "import urllib3\n",
    "from urllib.parse import urlencode"
   ]
  },
  {
   "cell_type": "code",
   "execution_count": 3,
   "metadata": {
    "collapsed": false
   },
   "outputs": [
    {
     "data": {
      "text/plain": [
       "'nm0000163'"
      ]
     },
     "execution_count": 3,
     "metadata": {},
     "output_type": "execute_result"
    }
   ],
   "source": [
    "import requests\n",
    "import json\n",
    "from urllib.parse import urlencode\n",
    "\n",
    "act = \"Dustin Hoffman\"\n",
    "act = str(act.encode(\"utf-8\"))\n",
    "\n",
    "\n",
    "r = requests.get('http://www.imdb.com/xml/find?json=1&nr=1&nm=on&q='+act)\n",
    "data=r.json()\n",
    "\n",
    "\n",
    "try:\n",
    "    act_id = data['name_exact'][0]['id']\n",
    "except:\n",
    "    act_id = data['name_popular'][0]['id']\n",
    "    \n",
    "    \n",
    "dh=act_id\n",
    "dh"
   ]
  },
  {
   "cell_type": "code",
   "execution_count": 4,
   "metadata": {
    "collapsed": false
   },
   "outputs": [
    {
     "data": {
      "text/plain": [
       "'nm0000134'"
      ]
     },
     "execution_count": 4,
     "metadata": {},
     "output_type": "execute_result"
    }
   ],
   "source": [
    "act = \"Robert De Niro\"\n",
    "act = str(act.encode(\"utf-8\"))\n",
    "\n",
    "\n",
    "r = requests.get('http://www.imdb.com/xml/find?json=1&nr=1&nm=on&q='+act)\n",
    "data=r.json()\n",
    "\n",
    "\n",
    "try:\n",
    "    act_id = data['name_exact'][0]['id']\n",
    "except:\n",
    "    act_id = data['name_popular'][0]['id']\n",
    "    \n",
    "    \n",
    "rdn=act_id\n",
    "rdn"
   ]
  },
  {
   "cell_type": "code",
   "execution_count": 9,
   "metadata": {
    "collapsed": false
   },
   "outputs": [
    {
     "name": "stdout",
     "output_type": "stream",
     "text": [
      " [1] \"/title/tt5536736/?ref_=nm_flmg_act_1\" \n",
      " [2] \"/title/tt5057130/?ref_=nm_flmg_act_2\" \n",
      " [3] \"/title/tt2267968/?ref_=nm_flmg_act_3\" \n",
      " [4] \"/title/tt5513770/?ref_=nm_flmg_act_4\" \n",
      " [5] \"/title/tt3083008/?ref_=nm_flmg_act_5\" \n",
      " [6] \"/title/tt3205394/?ref_=nm_flmg_act_6\" \n",
      " [7] \"/title/tt3203616/?ref_=nm_flmg_act_7\" \n",
      " [8] \"/title/tt3302706/?ref_=nm_flmg_act_8\" \n",
      " [9] \"/title/tt2883512/?ref_=nm_flmg_act_9\" \n",
      "[10] \"/title/tt5241256/?ref_=nm_flmg_act_10\"\n",
      "[11] \"/title/tt1578887/?ref_=nm_flmg_act_11\"\n",
      "[12] \"/title/tt1980162/?ref_=nm_flmg_act_12\"\n",
      "[13] \"/title/tt1302011/?ref_=nm_flmg_act_13\"\n",
      "[14] \"/title/tt0970866/?ref_=nm_flmg_act_14\"\n",
      "[15] \"/title/tt1702433/?ref_=nm_flmg_act_15\"\n",
      "[16] \"/title/tt1423894/?ref_=nm_flmg_act_16\"\n",
      "[17] \"/title/tt0420238/?ref_=nm_flmg_act_17\"\n",
      "[18] \"/title/tt1287845/?ref_=nm_flmg_act_18\"\n",
      "[19] \"/title/tt1046947/?ref_=nm_flmg_act_19\"\n",
      "[20] \"/title/tt1470016/?ref_=nm_flmg_act_20\"\n",
      "[21] \"/title/tt0441773/?ref_=nm_flmg_act_21\"\n",
      "[22] \"/title/tt0457419/?ref_=nm_flmg_act_22\"\n",
      "[23] \"/title/tt0457939/?ref_=nm_flmg_act_23\"\n",
      "[24] \"/title/tt0420223/?ref_=nm_flmg_act_24\"\n",
      "[25] \"/title/tt0396171/?ref_=nm_flmg_act_25\"\n",
      "[26] \"/title/tt0264235/?ref_=nm_flmg_act_26\"\n",
      "[27] \"/title/tt0343996/?ref_=nm_flmg_act_27\"\n",
      "[28] \"/title/tt0376105/?ref_=nm_flmg_act_28\"\n",
      "[29] \"/title/tt0339291/?ref_=nm_flmg_act_29\"\n",
      "[30] \"/title/tt0290002/?ref_=nm_flmg_act_30\"\n",
      "[31] \"/title/tt0356721/?ref_=nm_flmg_act_31\"\n",
      "[32] \"/title/tt0308644/?ref_=nm_flmg_act_32\"\n",
      "[33] \"/title/tt0313542/?ref_=nm_flmg_act_33\"\n",
      "[34] \"/title/tt0337550/?ref_=nm_flmg_act_34\"\n",
      "[35] \"/title/tt0310910/?ref_=nm_flmg_act_35\"\n",
      "[36] \"/title/tt0179098/?ref_=nm_flmg_act_36\"\n",
      "[37] \"/title/tt0306157/?ref_=nm_flmg_act_37\"\n",
      "[38] \"/title/tt0151137/?ref_=nm_flmg_act_38\"\n",
      "[39] \"/title/tt0120184/?ref_=nm_flmg_act_39\"\n",
      "[40] \"/title/tt0120885/?ref_=nm_flmg_act_40\"\n",
      "[41] \"/title/tt0119592/?ref_=nm_flmg_act_41\"\n",
      "[42] \"/title/tt0115530/?ref_=nm_flmg_act_42\"\n",
      "[43] \"/title/tt0117665/?ref_=nm_flmg_act_43\"\n",
      "[44] \"/title/tt0114069/?ref_=nm_flmg_act_44\"\n",
      "[45] \"/title/tt0104412/?ref_=nm_flmg_act_45\"\n",
      "[46] \"/title/tt0103272/?ref_=nm_flmg_act_46\"\n",
      "[47] \"/title/tt0102057/?ref_=nm_flmg_act_47\"\n",
      "[48] \"/title/tt0101453/?ref_=nm_flmg_act_48\"\n",
      "[49] \"/title/tt0096697/?ref_=nm_flmg_act_49\"\n",
      "[50] \"/title/tt0099422/?ref_=nm_flmg_act_50\"\n",
      "[51] \"/title/tt0097328/?ref_=nm_flmg_act_51\"\n",
      "[52] \"/title/tt0095953/?ref_=nm_flmg_act_52\"\n",
      "[53] \"/title/tt0093278/?ref_=nm_flmg_act_53\"\n",
      "[54] \"/title/tt0089006/?ref_=nm_flmg_act_54\"\n",
      "[55] \"/title/tt0084805/?ref_=nm_flmg_act_55\"\n",
      "[56] \"/title/tt0079417/?ref_=nm_flmg_act_56\"\n",
      "[57] \"/title/tt0078736/?ref_=nm_flmg_act_57\"\n",
      "[58] \"/title/tt0078326/?ref_=nm_flmg_act_58\"\n",
      "[59] \"/title/tt0074860/?ref_=nm_flmg_act_59\"\n",
      "[60] \"/title/tt0074119/?ref_=nm_flmg_act_60\"\n",
      "[61] \"/title/tt0071746/?ref_=nm_flmg_act_61\"\n",
      "[62] \"/title/tt0070511/?ref_=nm_flmg_act_62\"\n",
      "[63] \"/title/tt0068189/?ref_=nm_flmg_act_63\"\n",
      "[64] \"/title/tt0067800/?ref_=nm_flmg_act_64\"\n",
      "[65] \"/title/tt0067980/?ref_=nm_flmg_act_65\"\n",
      "[66] \"/title/tt0067595/?ref_=nm_flmg_act_66\"\n",
      "[67] \"/title/tt0065988/?ref_=nm_flmg_act_67\"\n",
      "[68] \"/title/tt0064513/?ref_=nm_flmg_act_68\"\n",
      "[69] \"/title/tt0064665/?ref_=nm_flmg_act_69\"\n",
      "[70] \"/title/tt0372545/?ref_=nm_flmg_act_70\"\n",
      "[71] \"/title/tt0062599/?ref_=nm_flmg_act_71\"\n",
      "[72] \"/title/tt0063303/?ref_=nm_flmg_act_72\"\n",
      "[73] \"/title/tt0061722/?ref_=nm_flmg_act_73\"\n",
      "[74] \"/title/tt0062369/?ref_=nm_flmg_act_74\"\n",
      "[75] \"/title/tt0233023/?ref_=nm_flmg_act_75\"\n",
      "[76] \"/title/tt0595252/?ref_=nm_flmg_act_76\"\n",
      "[77] \"/title/tt0062304/?ref_=nm_flmg_act_77\"\n",
      "[78] \"/title/tt0198583/?ref_=nm_flmg_act_78\"\n",
      "[79] \"/title/tt0055694/?ref_=nm_flmg_act_79\"\n",
      "[80] \"/title/tt0054531/?ref_=nm_flmg_act_80\"\n",
      "[81] \"/title/tt0051297/?ref_=nm_flmg_act_81\"\n",
      " [1]  NA 8.1 7.2 7.1 6.5 7.0 5.8 6.7 7.3 7.8 7.6 6.9 7.3 5.5 6.9 7.3 6.1 7.2 6.7\n",
      "[20] 5.8 7.6 6.2 6.9 7.6 7.5 8.7 6.7 5.2 6.8 6.3 6.7 7.7 7.1 7.9 6.7 6.7 7.0 6.4\n",
      "[39] 6.0 7.1 6.2 5.7 7.6 6.6 6.5 7.8 6.7 5.9 8.8 6.1 5.6 8.0 4.2 7.3 7.4 7.8 6.3\n",
      "[58] 7.4 7.5 8.0 7.6 8.0 6.5 7.5 5.7 8.0 7.6 6.6 7.9 6.6 8.5 4.1 8.0 5.9 8.0 7.4\n",
      "[77] 8.1 7.8 7.8 8.2 8.4\n",
      "  [1]  NA  NA  NA  NA  NA  NA 4.8 6.6 6.0 6.6 6.1 6.9 7.2 7.1 5.3 6.4 8.1 7.3\n",
      " [19] 6.6 6.3 5.4 5.6 7.8 4.6 6.4 6.2 5.7 6.5 7.4 5.9 8.2 5.5 5.4 6.7 7.2 6.0\n",
      " [37] 5.7 7.7 6.7 6.0 8.4 5.9 5.1 6.3 6.0 4.8 5.9 6.1 5.5 6.8 6.1 7.0 7.2 4.2\n",
      " [55] 6.4 6.7 7.3 6.8 7.1 7.5 6.9 6.7 7.6 5.8 8.2 8.2 6.1 6.4 7.8 7.3 6.2 5.8\n",
      " [73] 5.4 7.3 6.7 6.5 7.8 8.7 6.3 6.0 6.4 7.6 7.9 7.9 7.3 7.5 8.0 6.5 8.4 7.8\n",
      " [91] 6.4 8.2 8.2 9.5 6.7 6.3 7.7 8.3 9.0 7.4 7.0 5.0 5.7 4.7 6.2 5.6 3.7 5.0\n",
      "[109] 5.8 6.3 7.0 7.4\n",
      "Error: ggplot2 doesn't know how to deal with data of class character\n"
     ]
    },
    {
     "name": "stderr",
     "output_type": "stream",
     "text": [
      "//anaconda/lib/python3.6/site-packages/rpy2/rinterface/__init__.py:186: RRuntimeWarning: Error: ggplot2 doesn't know how to deal with data of class character\n",
      "\n",
      "  warnings.warn(x, RRuntimeWarning)\n",
      "//anaconda/lib/python3.6/site-packages/rpy2/rinterface/__init__.py:186: RRuntimeWarning: In addition: \n",
      "  warnings.warn(x, RRuntimeWarning)\n",
      "//anaconda/lib/python3.6/site-packages/rpy2/rinterface/__init__.py:186: RRuntimeWarning: There were 14 warnings (use warnings() to see them)\n",
      "  warnings.warn(x, RRuntimeWarning)\n",
      "//anaconda/lib/python3.6/site-packages/rpy2/rinterface/__init__.py:186: RRuntimeWarning: \n",
      "\n",
      "  warnings.warn(x, RRuntimeWarning)\n"
     ]
    }
   ],
   "source": [
    "\n",
    "%%R -i dh rdn\n",
    "\n",
    "\n",
    "library(xml2)\n",
    "library(rvest)\n",
    "library(selectr)\n",
    "library('dplyr')\n",
    "\n",
    "\n",
    "baseurl=\"http://www.imdb.com/name/\"\n",
    "dh_link=paste(baseurl,dh,'/',sep='')\n",
    "rdn_link=paste(baseurl,rdn,'/',sep='')\n",
    "\n",
    "\n",
    "\n",
    "#Open a new session linking to Hoffman's page and read the links to his filmography\n",
    "\n",
    "\n",
    "session <- html_session(dh_link)\n",
    "content <- read_html(session)\n",
    "\n",
    "\n",
    "\n",
    "\n",
    "\n",
    "hoffman_links <- html_nodes(content,\"#filmo-head-actor+ .filmo-category-section b a\" )\n",
    "hoffman_links <- html_attr(hoffman_links, \"href\")\n",
    "\n",
    "\n",
    "\n",
    "#Create an empty vector of Hoffman's ratings\n",
    "number_hoffman <- length(hoffman_links)\n",
    "hoffman_ratings<- c()\n",
    "\n",
    "#Loop over the links and extract the ratings vector\n",
    "for(i in 1:number_hoffman){\n",
    "  session <- session %>% jump_to(hoffman_links[i])\n",
    "  movie <- read_html(session)\n",
    "  rating <- html_nodes(movie,\".ratingValue strong span\")\n",
    "  if (length(rating)>0){\n",
    "    textrating <- html_text(rating)\n",
    "    hoffman_ratings[i] <- as.numeric(textrating)\n",
    "  }\n",
    "}\n",
    "\n",
    "print(hoffman_links)\n",
    "print(hoffman_ratings)\n",
    "\n",
    "\n",
    "\n",
    "#Open a new session linking to De Niro's page and read the links to his filmography\n",
    "link2=paste(baseurl,rdn,sep='')\n",
    "\n",
    "session2 <- html_session(link2)\n",
    "content2 <- read_html(session2)\n",
    "deniro_links <- content2 %>% html_nodes(\"#filmo-head-actor+ .filmo-category-section b a\")\n",
    "deniro_links <- deniro_links %>% html_attr(\"href\")\n",
    "\n",
    "#Create an empty vector of DeNiro's ratings\n",
    "number_deniro <- length(deniro_links)\n",
    "deniro_ratings<- c()\n",
    "print\n",
    "#Loop over the links and extract the ratings vector\n",
    "for(j in 1:number_deniro){\n",
    "  session2 <- session2 %>% jump_to(deniro_links[j])\n",
    "  movie2 <- read_html(session2)\n",
    "  rating2 <- html_nodes(movie2,\".ratingValue strong span\")\n",
    "  if (length(rating2)>0){\n",
    "    textrating2 <- html_text(rating2)\n",
    "    deniro_ratings[j] <- as.numeric(textrating2)\n",
    "  }\n",
    "}\n",
    "print(deniro_ratings)\n",
    "\n",
    "# Kernel Density Estimation\n",
    "\n",
    "library(tidyverse)\n",
    "\n",
    "hoffman <- as.data.frame(hoffman_ratings)\n",
    "deniro <- as.data.frame(deniro_ratings)\n",
    "kerneldensity=ggplot(hoffman, aes(hoffman_ratings))+\n",
    "  geom_density(data=hoffman, aes(hoffman_ratings,..density..),color=\"red\")+\n",
    "  geom_density(data=deniro, aes(deniro_ratings,..density..),color=\"blue\")+\n",
    "  xlab(\"Kernel Density Hoffman (Red) De Niro (Blue)\" )+\n",
    "  ylab(\"\")\n",
    "ggplot(\"~/Desktop/kernel.png\")\n",
    "\n",
    "# CDF\n",
    "ggplot(hoffman, aes(hoffman_ratings))+\n",
    "  stat_ecdf(data=hoffman, aes(hoffman_ratings),color=\"red\")+\n",
    "  stat_ecdf(data=deniro, aes(deniro_ratings),color=\"blue\")+\n",
    "  xlab(\"CDF Hoffman (Red) De Niro (Blue)\")\n",
    "ggplot(\"~/Desktop/cdf.png\")\n"
   ]
  },
  {
   "cell_type": "code",
   "execution_count": null,
   "metadata": {
    "collapsed": true
   },
   "outputs": [],
   "source": []
  }
 ],
 "metadata": {
  "kernelspec": {
   "display_name": "Python 3",
   "language": "python",
   "name": "python3"
  },
  "language_info": {
   "codemirror_mode": {
    "name": "ipython",
    "version": 3
   },
   "file_extension": ".py",
   "mimetype": "text/x-python",
   "name": "python",
   "nbconvert_exporter": "python",
   "pygments_lexer": "ipython3",
   "version": "3.6.0"
  }
 },
 "nbformat": 4,
 "nbformat_minor": 2
}
